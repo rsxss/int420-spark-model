{
 "cells": [
  {
   "cell_type": "markdown",
   "metadata": {},
   "source": [
    "# About Dataset"
   ]
  },
  {
   "cell_type": "markdown",
   "metadata": {},
   "source": [
    "**Attribute Information:**\n",
    "\n",
    "This research employed a binary variable, default payment (Yes = 1, No = 0), as the response variable. This study reviewed the literature and used the following 23 variables as explanatory variables:\n",
    "- X1: Amount of the given credit (NT dollar): it includes both the individual consumer credit and his/her family (supplementary) credit.\n",
    "- X2: Gender (1 = male; 2 = female).\n",
    "- X3: Education (1 = graduate school; 2 = university; 3 = high school; 4 = others).\n",
    "- X4: Marital status (1 = married; 2 = single; 3 = others).\n",
    "- X5: Age (year).\n",
    "- X6 - X11: History of past payment. We tracked the past monthly payment records (from April to September, 2005) as follows: X6 = the repayment status in September, 2005; X7 = the repayment status in August, 2005; . . .;X11 = the repayment status in April, 2005. The measurement scale for the repayment status is: -1 = pay duly; 1 = payment delay for one month; 2 = payment delay for two months; . . .; 8 = payment delay for eight months; 9 = payment delay for nine months and above.\n",
    "- X12-X17: Amount of bill statement (NT dollar). X12 = amount of bill statement in September, 2005; X13 = amount of bill statement in August, 2005; . . .; X17 = amount of bill statement in April, 2005.\n",
    "- X18-X23: Amount of previous payment (NT dollar). X18 = amount paid in September, 2005; X19 = amount paid in August, 2005; . . .;X23 = amount paid in April, 2005."
   ]
  },
  {
   "cell_type": "markdown",
   "metadata": {},
   "source": [
    "# Spark"
   ]
  },
  {
   "cell_type": "markdown",
   "metadata": {},
   "source": [
    "## Import Dataset"
   ]
  },
  {
   "cell_type": "code",
   "execution_count": 191,
   "metadata": {},
   "outputs": [
    {
     "name": "stdout",
     "output_type": "stream",
     "text": [
      "+---+------+---+---+---+---+---+---+---+---+---+---+-----+-----+-----+-----+-----+-----+----+-----+-----+----+----+----+---+\n",
      "| ID|    X1| X2| X3| X4| X5| X6| X7| X8| X9|X10|X11|  X12|  X13|  X14|  X15|  X16|  X17| X18|  X19|  X20| X21| X22| X23|  Y|\n",
      "+---+------+---+---+---+---+---+---+---+---+---+---+-----+-----+-----+-----+-----+-----+----+-----+-----+----+----+----+---+\n",
      "|  1| 20000|  2|  2|  1| 24|  2|  2| -1| -1| -2| -2| 3913| 3102|  689|    0|    0|    0|   0|  689|    0|   0|   0|   0|  1|\n",
      "|  2|120000|  2|  2|  2| 26| -1|  2|  0|  0|  0|  2| 2682| 1725| 2682| 3272| 3455| 3261|   0| 1000| 1000|1000|   0|2000|  1|\n",
      "|  3| 90000|  2|  2|  2| 34|  0|  0|  0|  0|  0|  0|29239|14027|13559|14331|14948|15549|1518| 1500| 1000|1000|1000|5000|  0|\n",
      "|  4| 50000|  2|  2|  1| 37|  0|  0|  0|  0|  0|  0|46990|48233|49291|28314|28959|29547|2000| 2019| 1200|1100|1069|1000|  0|\n",
      "|  5| 50000|  1|  2|  1| 57| -1|  0| -1|  0|  0|  0| 8617| 5670|35835|20940|19146|19131|2000|36681|10000|9000| 689| 679|  0|\n",
      "+---+------+---+---+---+---+---+---+---+---+---+---+-----+-----+-----+-----+-----+-----+----+-----+-----+----+----+----+---+\n",
      "only showing top 5 rows\n",
      "\n"
     ]
    }
   ],
   "source": [
    "from pyspark.sql import SparkSession\n",
    "\n",
    "spark = SparkSession \\\n",
    "    .builder \\\n",
    "    .appName(\"how to read csv file\") \\\n",
    "    .getOrCreate()\n",
    "\n",
    "raw_df = spark.read.csv('./data/credit_card_clients.csv', header=True)\n",
    "raw_df.show(5)"
   ]
  },
  {
   "cell_type": "code",
   "execution_count": 193,
   "metadata": {},
   "outputs": [
    {
     "name": "stdout",
     "output_type": "stream",
     "text": [
      "+--------------------+---+\n",
      "|            features|  Y|\n",
      "+--------------------+---+\n",
      "|[20000.0,2.0,2.0,...|1.0|\n",
      "|[120000.0,2.0,2.0...|1.0|\n",
      "|[90000.0,2.0,2.0,...|0.0|\n",
      "|[50000.0,2.0,2.0,...|0.0|\n",
      "|[50000.0,1.0,2.0,...|0.0|\n",
      "+--------------------+---+\n",
      "only showing top 5 rows\n",
      "\n"
     ]
    }
   ],
   "source": [
    "from pyspark.sql.functions import col\n",
    "from pyspark.ml.feature import VectorAssembler\n",
    "\n",
    "# change columns type 'str' to 'float' because VectorAssembler are not support to string type\n",
    "raw_df = raw_df.select(*(col(c).cast(\"float\").alias(c) for c in raw_df.columns))\n",
    "\n",
    "# get columns name\n",
    "numericCols = raw_df.drop('ID', 'Y').columns\n",
    "\n",
    "# merge all feature columns to Vector\n",
    "assembler = VectorAssembler(inputCols=numericCols, outputCol=\"features\")\n",
    "\n",
    "va_df = assembler.transform(raw_df)\n",
    "\n",
    "va_df.select(va_df.features, va_df.Y).show(5)"
   ]
  },
  {
   "cell_type": "code",
   "execution_count": 194,
   "metadata": {},
   "outputs": [],
   "source": [
    "# train/test split\n",
    "bs_train, bs_test = va_df.randomSplit([0.7, 0.3], seed=0)\n",
    "\n",
    "train = bs_train.select(['features', 'Y'])\n",
    "test = bs_test.select(['features', 'Y'])"
   ]
  },
  {
   "cell_type": "code",
   "execution_count": 202,
   "metadata": {},
   "outputs": [
    {
     "name": "stdout",
     "output_type": "stream",
     "text": [
      "Model Training Time in Seconds: 2.2725693749998754\n",
      "Model Prediction Time in Seconds: 0.04523545800020656\n"
     ]
    }
   ],
   "source": [
    "from pyspark.ml.classification import RandomForestClassifier\n",
    "import time\n",
    "\n",
    "# Define model\n",
    "rf = RandomForestClassifier(featuresCol = 'features', labelCol = 'Y')\n",
    "\n",
    "# Train the model\n",
    "model_training_start_time = time.perf_counter()\n",
    "rf = rf.fit(train)\n",
    "model_training_elapsed_time =  time.perf_counter() - model_training_start_time \n",
    "print(f'Model Training Time in Seconds: {model_training_elapsed_time}')\n",
    "\n",
    "# Prediction\n",
    "model_prediction_start_time = time.perf_counter()\n",
    "pred = rf.transform(test)\n",
    "model_prediction_elapsed_time = time.perf_counter() - model_prediction_start_time\n",
    "print(f'Model Prediction Time in Seconds: {model_prediction_elapsed_time}')\n",
    "\n",
    "# pred.show(5)"
   ]
  },
  {
   "cell_type": "code",
   "execution_count": 198,
   "metadata": {},
   "outputs": [
    {
     "name": "stdout",
     "output_type": "stream",
     "text": [
      "              precision    recall  f1-score   support\n",
      "\n",
      "         0.0       0.96      0.83      0.89      8029\n",
      "         1.0       0.35      0.70      0.46      1028\n",
      "\n",
      "    accuracy                           0.82      9057\n",
      "   macro avg       0.65      0.76      0.68      9057\n",
      "weighted avg       0.89      0.82      0.84      9057\n",
      "\n",
      "<sklearn.metrics._plot.confusion_matrix.ConfusionMatrixDisplay object at 0x7fd79a010550>\n"
     ]
    },
    {
     "data": {
      "image/png": "[encoded data removed]",
      "text/plain": [
       "<Figure size 640x480 with 2 Axes>"
      ]
     },
     "metadata": {},
     "output_type": "display_data"
    }
   ],
   "source": [
    "import numpy as np\n",
    "from sklearn.metrics import classification_report, ConfusionMatrixDisplay\n",
    "\n",
    "y_test = np.array(pred.select('Y').collect())\n",
    "y_pred = np.array(pred.select('prediction').collect())\n",
    "\n",
    "print(classification_report(y_pred, y_test))\n",
    "\n",
    "print(ConfusionMatrixDisplay.from_predictions(y_test, y_pred))"
   ]
  }
 ],
 "metadata": {
  "kernelspec": {
   "display_name": "Python 3.9.13 ('int420')",
   "language": "python",
   "name": "python3"
  },
  "language_info": {
   "codemirror_mode": {
    "name": "ipython",
    "version": 3
   },
   "file_extension": ".py",
   "mimetype": "text/x-python",
   "name": "python",
   "nbconvert_exporter": "python",
   "pygments_lexer": "ipython3",
   "version": "3.9.13"
  },
  "orig_nbformat": 4,
  "vscode": {
   "interpreter": {
    "hash": "ee5d0872b03335701053f9e3325a5e089e2e9d97c52d562bca5ec3bb08aff3bc"
   }
  }
 },
 "nbformat": 4,
 "nbformat_minor": 2
}
